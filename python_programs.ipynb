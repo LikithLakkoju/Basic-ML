{
  "nbformat": 4,
  "nbformat_minor": 0,
  "metadata": {
    "colab": {
      "name": "python programs.ipynb",
      "provenance": [],
      "collapsed_sections": [],
      "authorship_tag": "ABX9TyNL5kJYbN8s6KvsGE8NSUhy",
      "include_colab_link": true
    },
    "kernelspec": {
      "name": "python3",
      "display_name": "Python 3"
    },
    "language_info": {
      "name": "python"
    }
  },
  "cells": [
    {
      "cell_type": "markdown",
      "metadata": {
        "id": "view-in-github",
        "colab_type": "text"
      },
      "source": [
        "<a href=\"https://colab.research.google.com/github/LikithLakkoju/Basic-ML/blob/main/python_programs.ipynb\" target=\"_parent\"><img src=\"https://colab.research.google.com/assets/colab-badge.svg\" alt=\"Open In Colab\"/></a>"
      ]
    },
    {
      "cell_type": "markdown",
      "metadata": {
        "id": "FQtMupqqgrDy"
      },
      "source": [
        "Sum of two numbers"
      ]
    },
    {
      "cell_type": "code",
      "metadata": {
        "colab": {
          "base_uri": "https://localhost:8080/"
        },
        "id": "LFnywYY7gvdz",
        "outputId": "17f1dfd1-8d2a-42fb-a4dd-8beae2ecd528"
      },
      "source": [
        "a=int(input(\"enter a number \"))\n",
        "b=int(input(\"enter a number \"))\n",
        "c=a+b\n",
        "print(\"Sum of two numbers =\",c)"
      ],
      "execution_count": null,
      "outputs": [
        {
          "output_type": "stream",
          "text": [
            "enter a number 2\n",
            "enter a number 4\n",
            "Sum of two numbers = 6\n"
          ],
          "name": "stdout"
        }
      ]
    },
    {
      "cell_type": "markdown",
      "metadata": {
        "id": "wmtwxKmFhn_V"
      },
      "source": [
        "Factorial of a number"
      ]
    },
    {
      "cell_type": "code",
      "metadata": {
        "colab": {
          "base_uri": "https://localhost:8080/"
        },
        "id": "o75oV3K_ht7d",
        "outputId": "ac4f3635-c810-4884-8cba-79859a36ecbb"
      },
      "source": [
        "def factorial(num):\n",
        "  if num==1:\n",
        "    return num\n",
        "  else:\n",
        "    return num*factorial(num-1)\n",
        "num=int(input(\"enter a number: \"))\n",
        "if num<0:\n",
        "  print(\"Factorial cannot be found for negative numbes\")\n",
        "elif num==0:\n",
        "  print(\"Factorial of 0 is 1\")\n",
        "else:\n",
        "  print(\"Factorial of\",num,\"is:\",factorial(num))    \n",
        " \n",
        "\n",
        " "
      ],
      "execution_count": null,
      "outputs": [
        {
          "output_type": "stream",
          "text": [
            "enter a number: -2\n",
            "Factorial cannot be found for negative numbes\n"
          ],
          "name": "stdout"
        }
      ]
    },
    {
      "cell_type": "markdown",
      "metadata": {
        "id": "ND6ACdzBmD2y"
      },
      "source": [
        "Palindrome or Not"
      ]
    },
    {
      "cell_type": "code",
      "metadata": {
        "colab": {
          "base_uri": "https://localhost:8080/"
        },
        "id": "v3E-TCHvmKpJ",
        "outputId": "16e75435-6481-428a-bc1d-5f969896b0fa"
      },
      "source": [
        "num=int(input(\"Enter a number:\"))\n",
        "temp=num\n",
        "rev=0\n",
        "while(num>0):\n",
        "    dig=num%10\n",
        "    rev=rev*10+dig\n",
        "    num=num//10\n",
        "if(temp==rev):\n",
        "    print(\"The number is palindrome!\")\n",
        "else:\n",
        "    print(\"Not a palindrome!\")  "
      ],
      "execution_count": null,
      "outputs": [
        {
          "output_type": "stream",
          "text": [
            "Enter a number:123\n",
            "Not a palindrome!\n"
          ],
          "name": "stdout"
        }
      ]
    }
  ]
}